{
 "metadata": {
  "language_info": {
   "codemirror_mode": {
    "name": "ipython",
    "version": 3
   },
   "file_extension": ".py",
   "mimetype": "text/x-python",
   "name": "python",
   "nbconvert_exporter": "python",
   "pygments_lexer": "ipython3",
   "version": "3.7.3-final"
  },
  "orig_nbformat": 2,
  "kernelspec": {
   "name": "python3",
   "display_name": "Python 3.7.3 64-bit",
   "metadata": {
    "interpreter": {
     "hash": "31f2aee4e71d21fbe5cf8b01ff0e069b9275f58929596ceb00d14d90e3e16cd6"
    }
   }
  }
 },
 "nbformat": 4,
 "nbformat_minor": 2,
 "cells": [
  {
   "source": [
    "**Day Nineteen:** *Histograms with Matplotlib*\n"
   ],
   "cell_type": "markdown",
   "metadata": {}
  },
  {
   "source": [
    "### Challenge\n",
    "\n",
    "1. **What type of distribution does the column avg_time have?**\n",
    "\n",
    "2. **Do games that have a great avg_rating have longer play times?**\n",
    "\n",
    "- **Note:** For question 2, filter out games that have are above the avg_rating of 9.0."
   ],
   "cell_type": "markdown",
   "metadata": {}
  },
  {
   "cell_type": "code",
   "execution_count": null,
   "metadata": {},
   "outputs": [],
   "source": [
    "import pandas as pd\n",
    "import matplotlib.pyplot as plt\n",
    "import seaborn as sns"
   ]
  },
  {
   "cell_type": "code",
   "execution_count": null,
   "metadata": {},
   "outputs": [],
   "source": [
    "df = pd.read_csv('boardgames.csv')\n",
    "df.head(3)"
   ]
  },
  {
   "source": [
    "## Solution"
   ],
   "cell_type": "markdown",
   "metadata": {}
  },
  {
   "cell_type": "code",
   "execution_count": null,
   "metadata": {},
   "outputs": [],
   "source": [
    "#Question1\n",
    "\n",
    "df_avgtime = df[df['avg_time'] <= 500]\n",
    "\n",
    "plt.figure()\n",
    "plt.hist(df_avgtime, bins=40)\n",
    "\n",
    "#right-skewed data"
   ]
  },
  {
   "cell_type": "code",
   "execution_count": null,
   "metadata": {},
   "outputs": [],
   "source": [
    "#Question2\n",
    "\n",
    "df_playtime = df[df['avg_rating'] >= 9]\n",
    "\n",
    "if df_playtime['avg_time'].mean() > df_avgtime['avg_time'].mean():\n",
    "    print(\"Yes\")\n",
    "else:\n",
    "    print('No')\n"
   ]
  }
 ]
}