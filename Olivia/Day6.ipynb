{
 "metadata": {
  "language_info": {
   "codemirror_mode": {
    "name": "ipython",
    "version": 3
   },
   "file_extension": ".py",
   "mimetype": "text/x-python",
   "name": "python",
   "nbconvert_exporter": "python",
   "pygments_lexer": "ipython3",
   "version": "3.7.3-final"
  },
  "orig_nbformat": 2,
  "kernelspec": {
   "name": "python3",
   "display_name": "Python 3.7.3 64-bit",
   "metadata": {
    "interpreter": {
     "hash": "31f2aee4e71d21fbe5cf8b01ff0e069b9275f58929596ceb00d14d90e3e16cd6"
    }
   }
  }
 },
 "nbformat": 4,
 "nbformat_minor": 2,
 "cells": [
  {
   "source": [
    "\n",
    "**Day Six:** *descriptive statistics* "
   ],
   "cell_type": "markdown",
   "metadata": {}
  },
  {
   "source": [
    "### Challenge:\n",
    "\n",
    "There are many holes in the living room's ceiling that desperately need to be fixed. Dot's measured them, and in total there are about 100. They need to figure out how much does it cost to fix all of the holes. Differently sized holes will require differently sized patches to fix them. \n",
    "\n",
    "| Size of Hole             | Cost to Fix |\n",
    "|--------------------------|-------------|\n",
    "| Small (less than 20 mm)  | \\\\$1.30       |\n",
    "| Medium (above or equal to 20 mm AND less than 70mm) | \\\\$1.60       |\n",
    "| Large (above or equal to 70 mm)     | \\\\$2.10       |\n",
    "\n",
    "**Dot needs you to look at the measurements and figure out the answers to the following questions:**\n",
    " \n",
    "1. What is the average sized hole?\n",
    "2. What is the average cost to fix a hole?\n",
    "3. What is the total cost of fixing all of the holes?\n",
    "     \n",
    "     - Note: Use a for loop and an if else statement to answer Q3. \n",
    "\n",
    "**Stretch Question:**\n",
    "\n",
    "*Stretch Questions are not required to be completed to finish the challenge but are recommended to further develop your skills.*\n",
    "\n",
    "\n",
    "1. What is the maximum sized hole?\n",
    "2. What is the minimum sized hole? "
   ],
   "cell_type": "markdown",
   "metadata": {}
  },
  {
   "cell_type": "code",
   "execution_count": 2,
   "metadata": {},
   "outputs": [
    {
     "output_type": "execute_result",
     "data": {
      "text/plain": [
       "[9, 3, 1, 21, 35]"
      ]
     },
     "metadata": {},
     "execution_count": 2
    }
   ],
   "source": [
    "import random \n",
    "random.seed(34)\n",
    "\n",
    "hole_sizes = [random.randint(1, i) for i in range(1, 101)]\n",
    "random.shuffle(hole_sizes)\n",
    "\n",
    "# hole sizes in mm\n",
    "hole_sizes[:5]"
   ]
  },
  {
   "source": [
    "## Solution"
   ],
   "cell_type": "markdown",
   "metadata": {}
  },
  {
   "cell_type": "code",
   "execution_count": 5,
   "metadata": {},
   "outputs": [
    {
     "output_type": "stream",
     "name": "stdout",
     "text": [
      "Q1. The average hole size is: 28.39\n"
     ]
    }
   ],
   "source": [
    "print(f'Q1. The average hole size is: {sum(hole_sizes)/len(hole_sizes)}')"
   ]
  },
  {
   "cell_type": "code",
   "execution_count": 6,
   "metadata": {},
   "outputs": [],
   "source": [
    "fix_price = []\n",
    "\n",
    "for i in range(len(hole_sizes)):\n",
    "    if hole_sizes[i] < 20:\n",
    "        fix_price.append(1.3)\n",
    "    elif 20 <= hole_sizes[i] < 70:\n",
    "        fix_price.append(1.6)\n",
    "    else:\n",
    "        fix_price.append(2.1)"
   ]
  },
  {
   "cell_type": "code",
   "execution_count": 8,
   "metadata": {},
   "outputs": [
    {
     "output_type": "stream",
     "name": "stdout",
     "text": [
      "Q2. The average cost to fix a hole is: 1.49\nQ3. The total cost of fixing all the holes is: 148.8\n"
     ]
    }
   ],
   "source": [
    "print(f'Q2. The average cost to fix a hole is: {round(sum(fix_price)/len(fix_price), 2)}')\n",
    "print(f'Q3. The total cost of fixing all the holes is: {round(sum(fix_price), 2)}')"
   ]
  },
  {
   "source": [
    "### Stretch Questions"
   ],
   "cell_type": "markdown",
   "metadata": {}
  },
  {
   "cell_type": "code",
   "execution_count": 9,
   "metadata": {},
   "outputs": [
    {
     "output_type": "stream",
     "name": "stdout",
     "text": [
      "Q1. The size of the biggest hole is: 96\nQ2. The size of the smallest hols is: 1\n"
     ]
    }
   ],
   "source": [
    "print(f'Q1. The size of the biggest hole is: {max(hole_sizes)}')\n",
    "print(f'Q2. The size of the smallest hols is: {min(hole_sizes)}')"
   ]
  }
 ]
}