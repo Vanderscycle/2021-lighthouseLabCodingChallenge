{
 "metadata": {
  "language_info": {
   "codemirror_mode": {
    "name": "ipython",
    "version": 3
   },
   "file_extension": ".py",
   "mimetype": "text/x-python",
   "name": "python",
   "nbconvert_exporter": "python",
   "pygments_lexer": "ipython3",
   "version": 3
  },
  "orig_nbformat": 2
 },
 "nbformat": 4,
 "nbformat_minor": 2,
 "cells": [
  {
   "source": [
    "**Day Nine:** *pandas data cleaning* and *filling NaNs* "
   ],
   "cell_type": "markdown",
   "metadata": {}
  },
  {
   "source": [
    "### Challenge\n",
    "\n",
    "Fill out the missing values in the monthly milk production column with the median, and fill out the number of cows column using the ffill method.\n",
    "\n",
    "After filling in the missing values with our new data, answer these questions for Dot, so they can figure out the value of having a cow year-round:\n",
    "\n",
    "1. What is the average for monthly milk production?\n",
    "2. What is the standard deviation for monthly milk production?\n",
    "3. What is the average number of cows used?"
   ],
   "cell_type": "markdown",
   "metadata": {}
  },
  {
   "cell_type": "code",
   "execution_count": null,
   "metadata": {},
   "outputs": [],
   "source": [
    "#Question 1\n",
    "milk_median = df['Monthly milk production: pounds per cow'].median()\n",
    "df['Monthly milk production: pounds per cow'].fillna(milk_median, inplace=True)"
   ]
  },
  {
   "cell_type": "code",
   "execution_count": null,
   "metadata": {},
   "outputs": [],
   "source": [
    "#Question 2\n",
    "df['Monthly milk production: pounds per cow'].std()"
   ]
  },
  {
   "cell_type": "code",
   "execution_count": null,
   "metadata": {},
   "outputs": [],
   "source": [
    "#Question 3\n",
    "df['Number of Cows'].fillna(method='ffill', inplace=True)\n",
    "df['Number of Cows'].mean()"
   ]
  }
 ]
}