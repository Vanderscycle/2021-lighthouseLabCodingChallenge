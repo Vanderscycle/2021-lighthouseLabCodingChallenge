{
 "metadata": {
  "language_info": {
   "codemirror_mode": {
    "name": "ipython",
    "version": 3
   },
   "file_extension": ".py",
   "mimetype": "text/x-python",
   "name": "python",
   "nbconvert_exporter": "python",
   "pygments_lexer": "ipython3",
   "version": "3.7.3-final"
  },
  "orig_nbformat": 2,
  "kernelspec": {
   "name": "test_env",
   "display_name": "test_env",
   "language": "python"
  }
 },
 "nbformat": 4,
 "nbformat_minor": 2,
 "cells": [
  {
   "source": [
    "**Day One:** *Python variables & print functions*"
   ],
   "cell_type": "markdown",
   "metadata": {}
  },
  {
   "source": [
    "Challenge: Modify the lease agreement with your signature without changing the original lease variable."
   ],
   "cell_type": "markdown",
   "metadata": {}
  },
  {
   "cell_type": "code",
   "execution_count": 1,
   "metadata": {},
   "outputs": [],
   "source": [
    "lease = '''Dear Dot, \n",
    "           This document validates that you are beholden to a monthly payment of rent for this house.\n",
    "           Rent is to be paid by the first of every month.\n",
    "           Fill in your signature to agree to these terms.  \n",
    "            -------------\n",
    "            Please Sign Here: \n",
    "'''"
   ]
  },
  {
   "cell_type": "code",
   "execution_count": 2,
   "metadata": {},
   "outputs": [
    {
     "output_type": "stream",
     "name": "stdout",
     "text": [
      "\nDear Dot, \nThis document validates that you are beholden to a monthly payment of rent for this house.\nRent is to be paid by the first of every month.\nFill in your signature to agree to these terms.\n-------------\nPlease Sign Here: Dot \n\n"
     ]
    }
   ],
   "source": [
    "# Solution\n",
    "\n",
    "signature = \"Dot\"\n",
    "\n",
    "new_lease = f'''\n",
    "Dear Dot, \n",
    "This document validates that you are beholden to a monthly payment of rent for this house.\n",
    "Rent is to be paid by the first of every month.\n",
    "Fill in your signature to agree to these terms.\n",
    "-------------\n",
    "Please Sign Here: {signature} \n",
    "'''\n",
    "print(new_lease)"
   ]
  },
  {
   "cell_type": "code",
   "execution_count": null,
   "metadata": {},
   "outputs": [],
   "source": []
  }
 ]
}