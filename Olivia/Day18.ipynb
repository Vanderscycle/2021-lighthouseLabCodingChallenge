{
 "metadata": {
  "language_info": {
   "codemirror_mode": {
    "name": "ipython",
    "version": 3
   },
   "file_extension": ".py",
   "mimetype": "text/x-python",
   "name": "python",
   "nbconvert_exporter": "python",
   "pygments_lexer": "ipython3",
   "version": "3.7.3-final"
  },
  "orig_nbformat": 2,
  "kernelspec": {
   "name": "python3",
   "display_name": "Python 3.7.3 64-bit",
   "metadata": {
    "interpreter": {
     "hash": "31f2aee4e71d21fbe5cf8b01ff0e069b9275f58929596ceb00d14d90e3e16cd6"
    }
   }
  }
 },
 "nbformat": 4,
 "nbformat_minor": 2,
 "cells": [
  {
   "source": [
    "**Day Eighteen:** *Matplotlib Stylistic Methods* \n"
   ],
   "cell_type": "markdown",
   "metadata": {}
  },
  {
   "source": [
    "### Challenge\n",
    "\n",
    "1. **What are the top 5 boardgame categories in this dataset that are not targeted for young children?** \n",
    "    - **Note:** For the question above, use a filter to acquire boardgames with an inteded age of 13+, there is an *age* column in our dataset.\n",
    "    \n",
    "    \n",
    "2. **Which categories of boardgames that are not targeted for young children are the same compared to the top 5 boardgames categories in the overall dataset?** \n",
    "\n",
    "\n",
    "\n",
    "**Stretch**\n",
    "\n",
    "Try out the various matplotlib plot styles from this [article](https://www.dunderdata.com/blog/view-all-available-matplotlib-styles)."
   ],
   "cell_type": "markdown",
   "metadata": {}
  },
  {
   "cell_type": "code",
   "execution_count": 4,
   "metadata": {},
   "outputs": [],
   "source": [
    "import pandas as pd\n",
    "#import matplotlib.pyplot as plt"
   ]
  },
  {
   "cell_type": "code",
   "execution_count": null,
   "metadata": {},
   "outputs": [],
   "source": [
    "df = pd.read_csv('boardgames.csv')\n",
    "df.head(2)"
   ]
  },
  {
   "source": [
    "## Solution"
   ],
   "cell_type": "markdown",
   "metadata": {}
  },
  {
   "cell_type": "code",
   "execution_count": null,
   "metadata": {},
   "outputs": [],
   "source": [
    "#Question1\n",
    "df_age = df[df['age'] >= 13]\n",
    "\n",
    "df_age.category.value_counts().head(5).index\n",
    "\n",
    "plt.bar(df_age.category.value_counts().head(5).index, df_age.category.value_counts().head(5))"
   ]
  },
  {
   "cell_type": "code",
   "execution_count": null,
   "metadata": {},
   "outputs": [],
   "source": [
    "#Question2\n",
    "\n",
    "df.value_counts().head(5).index\n",
    "\n",
    "plt.bar(df.value_counts().head(5).index, df.value_counts().head(5))"
   ]
  },
  {
   "cell_type": "code",
   "execution_count": null,
   "metadata": {},
   "outputs": [],
   "source": []
  }
 ]
}