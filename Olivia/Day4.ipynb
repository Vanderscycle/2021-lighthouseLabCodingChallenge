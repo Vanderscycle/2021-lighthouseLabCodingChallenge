{
 "metadata": {
  "language_info": {
   "codemirror_mode": {
    "name": "ipython",
    "version": 3
   },
   "file_extension": ".py",
   "mimetype": "text/x-python",
   "name": "python",
   "nbconvert_exporter": "python",
   "pygments_lexer": "ipython3",
   "version": "3.7.3-final"
  },
  "orig_nbformat": 2,
  "kernelspec": {
   "name": "test_env",
   "display_name": "test_env",
   "language": "python"
  }
 },
 "nbformat": 4,
 "nbformat_minor": 2,
 "cells": [
  {
   "source": [
    "**Day Four:** *for loops*"
   ],
   "cell_type": "markdown",
   "metadata": {}
  },
  {
   "source": [
    "### Challenge:\n",
    "\n",
    "Dot needs to purchase:\n",
    "\n",
    "1. 600 planks of Oak Wood\n",
    "2. 150 liters of Blue Paint \n",
    "3. 15 liters of White Paint\n",
    "4. 165 liters of Paint Finish\n",
    "\n",
    "**Use a loop to determine the price Dot would pay for purchasing supplies at the retail price. Based on that calculation, which itmes should Dot buy at retail vs. wholesale?**\n",
    "\n",
    "**Note:** Assume the wholesale price covers all the supply Dot needs for each item, whereas the retail price is per single unit."
   ],
   "cell_type": "markdown",
   "metadata": {}
  },
  {
   "source": [
    "\n",
    "\n",
    "| Item                    | Needed Amount to Buy | Wholesale Price | Retail Price |\n",
    "|-------------------------|----------------------|-----------------|--------------|\n",
    "| Plank of Oak Wood       | 600                  | \\\\$ 7000           | \\\\$ 12.99       |\n",
    "| 1 Liter of Blue Paint   | 150                  | \\\\$ 1000           | \\\\$ 8.99        |\n",
    "| 1 Liter of White Paint  | 15                   | \\\\$ 1000           | \\\\$ 9.99        |\n",
    "| 1 Liter of Paint Finish | 165                  | \\\\$ 800            | \\\\$ 3.99        |\n"
   ],
   "cell_type": "markdown",
   "metadata": {}
  },
  {
   "source": [
    "### Solution"
   ],
   "cell_type": "markdown",
   "metadata": {}
  },
  {
   "cell_type": "code",
   "execution_count": 2,
   "metadata": {},
   "outputs": [],
   "source": [
    "item_list = ['Oak Wood', 'Blue Paint', 'White Paint', 'Paint Finish']\n",
    "\n",
    "amount_list = [600,150,15,165]\n",
    "\n",
    "wholesale_price_list = [7000, 1000, 1000, 800]\n",
    "\n",
    "retail_price = [12.99, 8.99, 9.99, 3.99]"
   ]
  },
  {
   "cell_type": "code",
   "execution_count": 3,
   "metadata": {},
   "outputs": [
    {
     "output_type": "stream",
     "name": "stdout",
     "text": [
      "[7794.0, 1348.5, 149.85, 658.35]\n"
     ]
    }
   ],
   "source": [
    "total_retail_price = []\n",
    "\n",
    "for i in range(len(item_list)):\n",
    "    total_retail_price.append(amount_list[i]*retail_price[i])\n",
    "\n",
    "print(total_retail_price)\n"
   ]
  },
  {
   "cell_type": "code",
   "execution_count": 4,
   "metadata": {},
   "outputs": [
    {
     "output_type": "stream",
     "name": "stdout",
     "text": [
      "For Oak Wood buy Wholesale\nFor Blue Paint buy Wholesale\nFor White Paint buy Retail\nFor Paint Finish buy Retail\n"
     ]
    }
   ],
   "source": [
    "for i in range(len(item_list)):\n",
    "    if wholesale_price_list[i] > total_retail_price[i]:\n",
    "        print(f'For {item_list[i]} buy Retail')\n",
    "    else:\n",
    "        print(f'For {item_list[i]} buy Wholesale')"
   ]
  }
 ]
}