{
 "metadata": {
  "language_info": {
   "codemirror_mode": {
    "name": "ipython",
    "version": 3
   },
   "file_extension": ".py",
   "mimetype": "text/x-python",
   "name": "python",
   "nbconvert_exporter": "python",
   "pygments_lexer": "ipython3",
   "version": 3
  },
  "orig_nbformat": 2
 },
 "nbformat": 4,
 "nbformat_minor": 2,
 "cells": [
  {
   "source": [
    "**Day Ten:** *pandas data modification* "
   ],
   "cell_type": "markdown",
   "metadata": {}
  },
  {
   "source": [
    "**Challenge**\n",
    "\n",
    "Help Dot figure out how profitable selling fresh milk can be, by looking at the dataset for the cow farm. Fill in the values for the following columns based on the available data:\n",
    "1. Total Milk Production\n",
    "2.  Total Revenue\n",
    "\n",
    "**How much revenue did the cow farm make in the year 2020?**"
   ],
   "cell_type": "markdown",
   "metadata": {}
  },
  {
   "source": [
    "## Solution"
   ],
   "cell_type": "markdown",
   "metadata": {}
  },
  {
   "cell_type": "code",
   "execution_count": null,
   "metadata": {},
   "outputs": [],
   "source": [
    "#fill in the two columns with appropriate information\n",
    "df['Total Milk Production'] = df['Monthly milk production: pounds per cow'] * df['Number of Cows']\n",
    "df['Total Revenue'] = df['Total Milk Production'] * df['Price_Per_Pound']"
   ]
  },
  {
   "cell_type": "code",
   "execution_count": null,
   "metadata": {},
   "outputs": [],
   "source": [
    "#extract year from Month column\n",
    "df['year'] = df['Month'].apply(lambda x: x[0:2])"
   ]
  },
  {
   "cell_type": "code",
   "execution_count": null,
   "metadata": {},
   "outputs": [],
   "source": [
    "#groupby year and sum to obtain values for yearly revenue\n",
    "total_revenue = pd.DataFrame(df.groupby(by=['year'])['Total Revenue'].sum())\n",
    "\n",
    "#print the total revenue for 2020\n",
    "print(total_revenue.loc['20'])"
   ]
  }
 ]
}