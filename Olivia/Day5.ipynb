{
 "metadata": {
  "language_info": {
   "codemirror_mode": {
    "name": "ipython",
    "version": 3
   },
   "file_extension": ".py",
   "mimetype": "text/x-python",
   "name": "python",
   "nbconvert_exporter": "python",
   "pygments_lexer": "ipython3",
   "version": "3.7.3-final"
  },
  "orig_nbformat": 2,
  "kernelspec": {
   "name": "python3",
   "display_name": "Python 3.7.3 64-bit",
   "metadata": {
    "interpreter": {
     "hash": "31f2aee4e71d21fbe5cf8b01ff0e069b9275f58929596ceb00d14d90e3e16cd6"
    }
   }
  }
 },
 "nbformat": 4,
 "nbformat_minor": 2,
 "cells": [
  {
   "source": [
    "\n",
    "**Day Five:** *conditional logic* and *control flows*"
   ],
   "cell_type": "markdown",
   "metadata": {}
  },
  {
   "source": [
    "### Challenge\n",
    "\n",
    "Dot's okay with paying a bit of a surplus for convenience, but they don't want to go broke buying dustpans and glass cleaner. Help them figure out which items cost over 10% more at the nearby store, so they can avoid buying these items. \n",
    "\n",
    "**Using Python, develop a list of items that are too expensive for Dot to purchase at the nearby store.**"
   ],
   "cell_type": "markdown",
   "metadata": {}
  },
  {
   "cell_type": "code",
   "execution_count": 2,
   "metadata": {},
   "outputs": [],
   "source": [
    "# Cleaning Supplies List (19 items)\n",
    "cleaningsupplies_list = ['Broom', 'Mop', 'Dustpan', 'Garbage Bags', 'Glass Cleaner', 'Vinegar',\n",
    "                        'Soap', 'Bleach', 'Duster', 'Floor Cleaner', 'Sponges', 'Dish Soap',\n",
    "                        'Drain Cleaner', 'Paper Towels', 'Cleaning Rags', 'Toilet Cleaner', \n",
    "                        'Rubber Gloves', 'Alcohol Wipes', 'Squeegee']\n",
    "\n",
    "# City Price\n",
    "city_price = [6.49, 4.99, 3.39, 4.29, 3.99, 1.99, \n",
    "              1.50, 3.99, 4.99, 5.99, 2.99, 2.99, \n",
    "              5.99, 2.99, 3.49, 6.99, 2.99, 1.98, 11.99]\n",
    "\n",
    "# Country Price\n",
    "country_price = [5.49, 4.69, 4.42, 5.99, 5.99, 2.50,\n",
    "                1.25, 2.49, 4.50, 6.75, 2.49, 1.99, \n",
    "                6.25, 3.99, 3.59, 4.99, 1.69, 1.87, 10.99]"
   ]
  },
  {
   "cell_type": "code",
   "execution_count": 12,
   "metadata": {},
   "outputs": [],
   "source": [
    "too_expensive = []\n",
    "\n",
    "for i in range(len(cleaningsupplies_list)):\n",
    "    if 1.1*(city_price[i]) < country_price[i]:\n",
    "       too_expensive.append(cleaningsupplies_list[i])\n"
   ]
  },
  {
   "cell_type": "code",
   "execution_count": 13,
   "metadata": {},
   "outputs": [
    {
     "output_type": "execute_result",
     "data": {
      "text/plain": [
       "['Dustpan',\n",
       " 'Garbage Bags',\n",
       " 'Glass Cleaner',\n",
       " 'Vinegar',\n",
       " 'Floor Cleaner',\n",
       " 'Paper Towels']"
      ]
     },
     "metadata": {},
     "execution_count": 13
    }
   ],
   "source": [
    "too_expensive"
   ]
  }
 ]
}