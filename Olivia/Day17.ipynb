{
 "metadata": {
  "language_info": {
   "codemirror_mode": {
    "name": "ipython",
    "version": 3
   },
   "file_extension": ".py",
   "mimetype": "text/x-python",
   "name": "python",
   "nbconvert_exporter": "python",
   "pygments_lexer": "ipython3",
   "version": 3
  },
  "orig_nbformat": 2
 },
 "nbformat": 4,
 "nbformat_minor": 2,
 "cells": [
  {
   "source": [
    "**Day Seventeen:** *Bar Plots and Specific Data* \n"
   ],
   "cell_type": "markdown",
   "metadata": {}
  },
  {
   "source": [
    "### Challenge\n",
    "\n",
    "Help Dot by answering the following questions using a bar plot:\n",
    "\n",
    "1. What are the top 5 rated books in the dataset?\n",
    "\n",
    "2. What are the top 5 books with the highest average rating?\n",
    "\n",
    "    **Note:** Filter out books that have low ***ratings_count***, for question 2 filter out books with a ***ratings_count*** less than the mean.\n",
    "\n",
    "**Stretch**\n",
    "\n",
    "As an optional bonus question, try answering this as well:\n",
    "\n",
    "1. What are the top 5 authours with the most books in the dataset?\n",
    "\n"
   ],
   "cell_type": "markdown",
   "metadata": {}
  },
  {
   "cell_type": "code",
   "execution_count": null,
   "metadata": {},
   "outputs": [],
   "source": [
    "#Question1\n",
    "\n",
    "#sorting gives the five highest ratings count \n",
    "df['ratings_count'].sort_values(ascending=False)\n",
    "\n",
    "high_ratings = df[df['ratings_count'] >= 2339585]\n",
    "\n",
    "#bar chart of books with the highest rating (easier to see titles this way)\n",
    "plt.bar(high_ratings['ratings_count'], high_ratings['title'])"
   ]
  },
  {
   "cell_type": "code",
   "execution_count": null,
   "metadata": {},
   "outputs": [],
   "source": [
    "#Question2\n",
    "\n",
    "rating_mean = df['ratings_count'].mean()\n",
    "highest_avg = df[df['ratings_count'] > rating_mean]\n",
    "\n",
    "#questionable whether there is a need to represent this with a bar chart \n",
    "new_df = highest_avg.sort_values(by=['average_rating', 'ratings_count'], ascending=False).head(5)\n",
    "\n",
    "plt.bar(new_df['average_rating'], new_df['title'])"
   ]
  },
  {
   "cell_type": "code",
   "execution_count": null,
   "metadata": {},
   "outputs": [],
   "source": [
    "#Stretch\n",
    "\n",
    "author_df = df.groupby(by=['authors']).count().sort_values(by=['bookID'], ascending=False).head(5).reset_index()\n",
    "\n",
    "plt.bar(author_df['bookID'], author_df['authors'])\n"
   ]
  }
 ]
}