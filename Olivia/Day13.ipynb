{
 "metadata": {
  "language_info": {
   "codemirror_mode": {
    "name": "ipython",
    "version": 3
   },
   "file_extension": ".py",
   "mimetype": "text/x-python",
   "name": "python",
   "nbconvert_exporter": "python",
   "pygments_lexer": "ipython3",
   "version": "3.7.3-final"
  },
  "orig_nbformat": 2,
  "kernelspec": {
   "name": "python3",
   "display_name": "Python 3.7.3 64-bit",
   "metadata": {
    "interpreter": {
     "hash": "31f2aee4e71d21fbe5cf8b01ff0e069b9275f58929596ceb00d14d90e3e16cd6"
    }
   }
  }
 },
 "nbformat": 4,
 "nbformat_minor": 2,
 "cells": [
  {
   "source": [
    "**Day Thirteen:** *sorting with pandas* "
   ],
   "cell_type": "markdown",
   "metadata": {}
  },
  {
   "source": [
    "### Challenge\n",
    "Use the pandas sort function and the pandas filter function from the previous challenge to answer these questions:\n",
    "\n",
    "1. Which wines had a quality of 8 or higher and a residual sugar level above 5?\n",
    "2. How many wines in total had a quality of 8 and 7 and a citric acid level below 0.4?\n",
    "\n",
    "*Note: Use the index positions of the wines as the wine names.* "
   ],
   "cell_type": "markdown",
   "metadata": {}
  },
  {
   "cell_type": "code",
   "execution_count": null,
   "metadata": {},
   "outputs": [],
   "source": [
    "#Question 1\n",
    "wine_df[(wine_df['residual sugar'] > 5) & (wine_df['quality'] >= 8)]"
   ]
  },
  {
   "cell_type": "code",
   "execution_count": null,
   "metadata": {},
   "outputs": [],
   "source": [
    "#Question 2\n",
    "wine_df[((wine_df['quality'] == 8) | (wine_df['quality'] == 7)) & (wine_df['citric acid'] < 0.4)]"
   ]
  }
 ]
}