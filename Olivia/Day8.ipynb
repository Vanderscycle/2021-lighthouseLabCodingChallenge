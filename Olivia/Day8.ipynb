{
 "metadata": {
  "language_info": {
   "codemirror_mode": {
    "name": "ipython",
    "version": 3
   },
   "file_extension": ".py",
   "mimetype": "text/x-python",
   "name": "python",
   "nbconvert_exporter": "python",
   "pygments_lexer": "ipython3",
   "version": 3
  },
  "orig_nbformat": 2
 },
 "nbformat": 4,
 "nbformat_minor": 2,
 "cells": [
  {
   "source": [
    "\n",
    "**Day Eight:** *pandas DataFrame* "
   ],
   "cell_type": "markdown",
   "metadata": {}
  },
  {
   "source": [
    "### Challenge\n",
    "\n",
    "After playing around with the functions above, you can start helping Dot figure out when the best time to rent a cow might be. With this dataset, you can take a look at how cows produce milk over time. \n",
    "\n",
    "Answer the following questions for Dot: \n",
    "\n",
    "1. At what year and month did company x produce the most milk?\n",
    "2. At what year and month did company x produce the least milk? \n",
    "\n",
    "**Stretch**\n",
    "\n",
    "*Stretch questions are not required to be completed for the challenge, but you can test your skills with more advanced challenges.*\n",
    "\n",
    "1. Which year produced the most milk? "
   ],
   "cell_type": "markdown",
   "metadata": {}
  },
  {
   "source": [
    "## Solution"
   ],
   "cell_type": "markdown",
   "metadata": {}
  },
  {
   "cell_type": "code",
   "execution_count": null,
   "metadata": {},
   "outputs": [],
   "source": [
    "df.sort_values(by=['Monthly milk production: pounds per cow'])"
   ]
  },
  {
   "cell_type": "code",
   "execution_count": null,
   "metadata": {},
   "outputs": [],
   "source": [
    "#Question 1\n",
    "df.sort_values(by=['Monthly milk production: pounds per cow']).iloc[-1]['Month']"
   ]
  },
  {
   "cell_type": "code",
   "execution_count": null,
   "metadata": {},
   "outputs": [],
   "source": [
    "#Question 2\n",
    "df.sort_values(by=['Monthly milk production: pounds per cow']).iloc[0]['Month']"
   ]
  },
  {
   "source": [
    "## Stretch"
   ],
   "cell_type": "markdown",
   "metadata": {}
  },
  {
   "cell_type": "code",
   "execution_count": null,
   "metadata": {},
   "outputs": [],
   "source": [
    "#create separate year column \n",
    "df['year'] = df['Month'].apply(lambda x: x[0:2])"
   ]
  },
  {
   "cell_type": "code",
   "execution_count": null,
   "metadata": {},
   "outputs": [],
   "source": [
    "#use groupby on the year column and perform a summation aggregation on milk production in pounds\n",
    "df_milk_by_year = pd.DataFrame(df.groupby(by=['year'])['Monthly milk production: pounds per cow'].sum()).reset_index()"
   ]
  },
  {
   "cell_type": "code",
   "execution_count": null,
   "metadata": {},
   "outputs": [],
   "source": [
    "#extract the year with the highest milk production\n",
    "df_milk_by_year.sort_values(by=['Monthly milk production: pounds per cow'], ascending=False).iloc[0]['year']"
   ]
  }
 ]
}