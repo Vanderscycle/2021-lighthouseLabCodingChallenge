{
 "metadata": {
  "language_info": {
   "codemirror_mode": {
    "name": "ipython",
    "version": 3
   },
   "file_extension": ".py",
   "mimetype": "text/x-python",
   "name": "python",
   "nbconvert_exporter": "python",
   "pygments_lexer": "ipython3",
   "version": "3.8.5-final"
  },
  "orig_nbformat": 2,
  "kernelspec": {
   "name": "python3",
   "display_name": "Python 3.8.5 64-bit ('base': conda)",
   "metadata": {
    "interpreter": {
     "hash": "208ca50c4d27e81cb3362e837b8987f14388683af36617e2ae3238c5b3da3225"
    }
   }
  }
 },
 "nbformat": 4,
 "nbformat_minor": 2,
 "cells": [
  {
   "source": [
    "\n",
    "**Day Seven:** *simple functions* and *data cleaning* "
   ],
   "cell_type": "markdown",
   "metadata": {}
  },
  {
   "source": [
    "## Challenge \n",
    "\n",
    "Dot has a lot of different boxes laying around. They need a system for how to unpack them, or they'll just continue procrastinating. Help Dot sort the boxes by their weight.\n",
    "\n",
    "| Box:  | Weight (kg) |\n",
    "|-------|-------------|\n",
    "| Box 1 | 4           |\n",
    "| Box 2 | 2           |\n",
    "| Box 3 | 18          |\n",
    "| Box 4 | 21          |\n",
    "| Box 5 | 14          |\n",
    "| Box 6 | 13          |\n",
    "\n",
    "**Create a function that will open the boxes according to their weight, from lightest to heaviest.**"
   ],
   "cell_type": "markdown",
   "metadata": {}
  },
  {
   "cell_type": "code",
   "execution_count": 10,
   "metadata": {},
   "outputs": [],
   "source": [
    "#example dicitonary\n",
    "user_boxes = {'weight': [4,2,18,21,14,13],\n",
    "              'box_name': ['box1','box2', 'box3', 'box4', 'box5', 'box6']\n",
    "             }"
   ]
  },
  {
   "source": [
    "## Solution"
   ],
   "cell_type": "markdown",
   "metadata": {}
  },
  {
   "cell_type": "code",
   "execution_count": 22,
   "metadata": {},
   "outputs": [],
   "source": [
    "def sort_boxes(dictionary):\n",
    "    new_dict = {}\n",
    "\n",
    "    for i in range(len(dictionary['weight'])):\n",
    "        new_dict[dictionary['weight'][i]] = dictionary['box_name'][i]\n",
    "    \n",
    "    box_order = []\n",
    "    for i in sorted(new_dict):\n",
    "        box_order.append(new_dict[i])\n",
    "    \n",
    "    return box_order"
   ]
  },
  {
   "cell_type": "code",
   "execution_count": 23,
   "metadata": {},
   "outputs": [
    {
     "output_type": "execute_result",
     "data": {
      "text/plain": [
       "['box2', 'box1', 'box6', 'box5', 'box3', 'box4']"
      ]
     },
     "metadata": {},
     "execution_count": 23
    }
   ],
   "source": [
    "sort_boxes(user_boxes)"
   ]
  }
 ]
}