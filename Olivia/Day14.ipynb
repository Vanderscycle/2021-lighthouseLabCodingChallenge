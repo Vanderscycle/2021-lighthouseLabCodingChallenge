{
 "metadata": {
  "language_info": {
   "codemirror_mode": {
    "name": "ipython",
    "version": 3
   },
   "file_extension": ".py",
   "mimetype": "text/x-python",
   "name": "python",
   "nbconvert_exporter": "python",
   "pygments_lexer": "ipython3",
   "version": 3
  },
  "orig_nbformat": 2
 },
 "nbformat": 4,
 "nbformat_minor": 2,
 "cells": [
  {
   "source": [
    "**Day Fourteen:** *combining our knowledge* "
   ],
   "cell_type": "markdown",
   "metadata": {}
  },
  {
   "source": [
    "### Challenge\n",
    "\n",
    "Dot's neighbour said that he only likes wine from Stellenbosch, Bordeaux, and the Okanagan Valley, and that the sulfates can't be that high. The problem is, Dot can't really afford to spend tons of money on the wine. Dot's conditions for searching for wine are:\n",
    "\n",
    "Sulfates cannot be higher than 0.6.\n",
    "The price has to be less than $20.\n",
    "Use the above conditions to filter the data for questions 2 and 3 below.\n",
    "\n",
    "#### Questions:\n",
    "\n",
    "1. Where is Stellenbosch, anyway? How many wines from Stellenbosch are there in the entire dataset?\n",
    "2. After filtering with the 2 conditions, what is the average price of wine from the Bordeaux region?\n",
    "3. After filtering with the 2 conditions, what is the least expensive wine that's of the highest quality from the Okanagan Valley?\n",
    "\n",
    "### Stretch Question:\n",
    "\n",
    "What is the average price of wine from Stellenbosch, according to the entire unfiltered dataset?"
   ],
   "cell_type": "markdown",
   "metadata": {}
  },
  {
   "cell_type": "code",
   "execution_count": null,
   "metadata": {},
   "outputs": [],
   "source": [
    "import pandas as pd\n",
    "\n",
    "df = pd.read_csv('winequality-red_2.csv')\n",
    "df = df.drop(columns = ['Unnamed: 0'])\n",
    "\n",
    "df.head()"
   ]
  },
  {
   "cell_type": "code",
   "execution_count": null,
   "metadata": {},
   "outputs": [],
   "source": [
    "#Question1\n",
    "df['region'].value_counts()"
   ]
  },
  {
   "cell_type": "code",
   "execution_count": null,
   "metadata": {},
   "outputs": [],
   "source": [
    "#Question2\n",
    "df2 = df[(df['sulphates'] <= 0.6) & (df['price'] < 20)]\n",
    "\n",
    "df2.groupby(['region'])['price'].mean()"
   ]
  },
  {
   "cell_type": "code",
   "execution_count": null,
   "metadata": {},
   "outputs": [],
   "source": [
    "#Question3\n",
    "df3 = df[df['region'] == 'Okanagan Valley']\n",
    "\n",
    "df3.sort_values(by=['quality', 'price'], ascending=False)"
   ]
  },
  {
   "cell_type": "code",
   "execution_count": null,
   "metadata": {},
   "outputs": [],
   "source": []
  }
 ]
}