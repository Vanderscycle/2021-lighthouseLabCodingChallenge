{
 "metadata": {
  "language_info": {
   "codemirror_mode": {
    "name": "ipython",
    "version": 3
   },
   "file_extension": ".py",
   "mimetype": "text/x-python",
   "name": "python",
   "nbconvert_exporter": "python",
   "pygments_lexer": "ipython3",
   "version": "3.7.3-final"
  },
  "orig_nbformat": 2,
  "kernelspec": {
   "name": "test_env",
   "display_name": "test_env",
   "language": "python"
  }
 },
 "nbformat": 4,
 "nbformat_minor": 2,
 "cells": [
  {
   "source": [
    "**Day Three:** *lists, dictionaries, and indexing*"
   ],
   "cell_type": "markdown",
   "metadata": {}
  },
  {
   "source": [
    "Challenge\n",
    "\n",
    "Dot has some specific rules for what they want to change in the shopping list:\n",
    "\n",
    "1. They hate oak wood, and prefer maple.\n",
    "2. They want to paint all the rooms blue except the kitchen, which they want to paint white."
   ],
   "cell_type": "markdown",
   "metadata": {}
  },
  {
   "cell_type": "code",
   "execution_count": 47,
   "metadata": {},
   "outputs": [],
   "source": [
    "old_blueprint = {\n",
    "    \"Kitchen\": ['Dirty', 'Oak', \"Damaged\", \"Green\"],\n",
    "    \"Dining Room\": ['Dirty', 'Pine', 'Good Condition', 'Grey'],\n",
    "    \"Living Room\": ['Dirty', 'Oak', 'Damaged', 'Red'],\n",
    "    \"Bedroom\" : [\"Clean\", 'Mahogany', 'Good Condition', 'Green'],\n",
    "    \"Bathroom\": [\"Dirty\", 'White Tile', 'Good Condition','White'],\n",
    "    \"Shed\"    : ['Dirty', \"Cherry\", \"Damaged\", \"Un-painted\"]\n",
    "}"
   ]
  },
  {
   "cell_type": "code",
   "execution_count": 20,
   "metadata": {},
   "outputs": [],
   "source": [
    "shopping_list = ['20 x Oak Plank', '20 x Oak Plank', '20 x Cherry Plank', 'White Paint', 'White Paint', 'White Paint']"
   ]
  },
  {
   "source": [
    "**Note**: The blueprint above is in a dictionary format and we won't be needing to work with dictionaries in the challenge, use the blueprint as reference only.\n",
    "\n",
    "**Use python's pop(), insert(), and append() list functions to change the shopping_list above so that it reflects the right materials needed.**\n",
    "\n",
    "The list should be ordered by wood types first, then paint types."
   ],
   "cell_type": "markdown",
   "metadata": {}
  },
  {
   "cell_type": "code",
   "execution_count": 23,
   "metadata": {},
   "outputs": [],
   "source": [
    "example_shopping_list = ['wood type in room A', 'wood type in room b','paint type in room a','paint type in room b']"
   ]
  },
  {
   "source": [
    "**Create a paint_list list from the new_shopping_list list using the built in python list indexing ability.**"
   ],
   "cell_type": "markdown",
   "metadata": {}
  },
  {
   "source": [
    "### Solution"
   ],
   "cell_type": "markdown",
   "metadata": {}
  },
  {
   "cell_type": "code",
   "execution_count": 74,
   "metadata": {},
   "outputs": [
    {
     "output_type": "stream",
     "name": "stdout",
     "text": [
      "['20 x Maple Plank', '20 x Maple Plank', '20 x Cherry Plank', 'White Paint', 'Blue Paint', 'Blue Paint', 'Blue Paint', 'Blue Paint', 'Blue Paint']\n"
     ]
    }
   ],
   "source": [
    "new_shopping_list = []\n",
    "\n",
    "for i in old_blueprint:\n",
    "    if old_blueprint[i][2] == 'Damaged':\n",
    "        if old_blueprint[i][1] == 'Oak':\n",
    "            new_shopping_list.append('20 x Maple Plank')\n",
    "        else:\n",
    "            new_shopping_list.append(f'20 x {old_blueprint[i][1]} Plank')\n",
    "\n",
    "for i in old_blueprint:\n",
    "    if i == 'Kitchen':\n",
    "        new_shopping_list.append(\"White Paint\")\n",
    "    else:\n",
    "        new_shopping_list.append(\"Blue Paint\")\n",
    "\n",
    "print(new_shopping_list)"
   ]
  },
  {
   "cell_type": "code",
   "execution_count": 76,
   "metadata": {},
   "outputs": [
    {
     "output_type": "stream",
     "name": "stdout",
     "text": [
      "['White Paint', 'Blue Paint', 'Blue Paint', 'Blue Paint', 'Blue Paint', 'Blue Paint']\n"
     ]
    }
   ],
   "source": [
    "paint_list = new_shopping_list[3:]\n",
    "\n",
    "print(paint_list)"
   ]
  }
 ]
}