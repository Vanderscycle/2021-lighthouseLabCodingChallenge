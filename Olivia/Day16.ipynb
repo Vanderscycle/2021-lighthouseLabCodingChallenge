{
 "metadata": {
  "language_info": {
   "codemirror_mode": {
    "name": "ipython",
    "version": 3
   },
   "file_extension": ".py",
   "mimetype": "text/x-python",
   "name": "python",
   "nbconvert_exporter": "python",
   "pygments_lexer": "ipython3",
   "version": 3
  },
  "orig_nbformat": 2
 },
 "nbformat": 4,
 "nbformat_minor": 2,
 "cells": [
  {
   "source": [
    "**Day Sixteen:** *Descriptive Statistics with Boxplots* \n"
   ],
   "cell_type": "markdown",
   "metadata": {}
  },
  {
   "source": [
    "### Challenge\n",
    "\n",
    "**Create a boxplot to answer the following questions:**\n",
    "\n",
    "1. How many books have over 4000 pages? \n",
    "\n",
    "    Note: Do not use a fitler, use a boxplot.\n",
    "    \n",
    "2. What are the average ratings for books that have over 4000 pages?\n",
    "\n",
    "    Note: You can use a filter for question 2. "
   ],
   "cell_type": "markdown",
   "metadata": {}
  },
  {
   "cell_type": "code",
   "execution_count": null,
   "metadata": {},
   "outputs": [],
   "source": [
    "import pandas as pd\n",
    "import matplotlib.pyplot as plt"
   ]
  },
  {
   "cell_type": "code",
   "execution_count": null,
   "metadata": {},
   "outputs": [],
   "source": [
    "df = pd.read_csv(\"books.csv\")"
   ]
  },
  {
   "source": [
    "## Solution"
   ],
   "cell_type": "markdown",
   "metadata": {}
  },
  {
   "cell_type": "code",
   "execution_count": null,
   "metadata": {},
   "outputs": [],
   "source": [
    "#Question1\n",
    "plt.boxplot(df['num_pages'])\n",
    "plt.show()"
   ]
  },
  {
   "cell_type": "code",
   "execution_count": null,
   "metadata": {},
   "outputs": [],
   "source": [
    "#Question2\n",
    "df[df['num_pages'] > 4000].sort_values(by=['num_pages'], ascending=False)"
   ]
  }
 ]
}