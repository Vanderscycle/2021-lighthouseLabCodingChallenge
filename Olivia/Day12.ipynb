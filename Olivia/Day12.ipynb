{
 "metadata": {
  "language_info": {
   "codemirror_mode": {
    "name": "ipython",
    "version": 3
   },
   "file_extension": ".py",
   "mimetype": "text/x-python",
   "name": "python",
   "nbconvert_exporter": "python",
   "pygments_lexer": "ipython3",
   "version": 3
  },
  "orig_nbformat": 2
 },
 "nbformat": 4,
 "nbformat_minor": 2,
 "cells": [
  {
   "source": [
    "**Day Twelve:** *pandas data filtering* "
   ],
   "cell_type": "markdown",
   "metadata": {}
  },
  {
   "source": [
    "### Challenge\n",
    "\n",
    "Examining the numbers, Dot understands that the prices of both conventional and organic avocados rise and fall frequently. No matter how they grow the avocados, they don't want to sell them for less than $2. \n",
    "\n",
    "Looking at recent years, Dot needs you to help them find: **in which year or years did both conventional and organic avocados have had average prices above $2?** "
   ],
   "cell_type": "markdown",
   "metadata": {}
  },
  {
   "source": [
    "## Solution"
   ],
   "cell_type": "markdown",
   "metadata": {}
  },
  {
   "cell_type": "code",
   "execution_count": null,
   "metadata": {},
   "outputs": [],
   "source": [
    "#retrieve rows for when average price is greater than 2\n",
    "avg_2 = df[df['AveragePrice'] > 2]"
   ]
  },
  {
   "cell_type": "code",
   "execution_count": null,
   "metadata": {},
   "outputs": [],
   "source": [
    "#retrieve rows for when type is conventional \n",
    "conventional = avg_2[avg_2['type'] == 'conventional']\n",
    "organic = avg_2[avg_2['type'] == 'organic']"
   ]
  },
  {
   "cell_type": "code",
   "execution_count": null,
   "metadata": {},
   "outputs": [],
   "source": [
    "avg_c = pd.DataFrame(conventional.groupby(by=['year'])['AveragePrice'].mean()).reset_index()\n",
    "avg_o = pd.DataFrame(organic.groupby(by=['year'])['AveragePrice'].mean()).reset_index()"
   ]
  },
  {
   "cell_type": "code",
   "execution_count": null,
   "metadata": {},
   "outputs": [],
   "source": [
    "#this returns the years where both conventional and organic avocados had average prices greater than 2\n",
    "for i in range(len(avg_c['year'])):\n",
    "    for j in avg_o['year']:\n",
    "        if j == avg_c['year'][i]:\n",
    "            print(j)"
   ]
  }
 ]
}