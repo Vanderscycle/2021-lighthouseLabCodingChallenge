{
 "metadata": {
  "language_info": {
   "codemirror_mode": {
    "name": "ipython",
    "version": 3
   },
   "file_extension": ".py",
   "mimetype": "text/x-python",
   "name": "python",
   "nbconvert_exporter": "python",
   "pygments_lexer": "ipython3",
   "version": 3
  },
  "orig_nbformat": 2
 },
 "nbformat": 4,
 "nbformat_minor": 2,
 "cells": [
  {
   "source": [
    "**Day Twenty-One:** *Grand Ol’ Smashin’ Finale*\n"
   ],
   "cell_type": "markdown",
   "metadata": {}
  },
  {
   "source": [
    "### Challenge\n",
    "\n",
    "Dot wants to play retro video games with all their new friends! Help them figure out which games would be best.\n",
    "\n",
    "Questions:\n",
    "\n",
    "1. **What is the correlation coefficient between Critic_Score and User_Score?**\n",
    "\n",
    "- **Note:** You may have to clean some of the columns and fill it with the median value (if numerical).\n",
    "\n",
    "2. **Plot the top 5 best selling games released before the year 2000.**\n",
    "\n",
    "- **Note:** Use Global_Sales\n",
    "\n",
    "3. **Create a new column called Aggregate_Score, which returns the proportional average between Critic Score and User_Score based on Critic_Count and User_Count. Plot a horizontal bar chart of the top 5 highest rated games by Aggregate_Score, not published by Nintendo before the year 2000. From this bar chart, what is the highest rated game by Aggregate_Score?**\n",
    "\n",
    "- **Note:** Critic_Count should be filled with the mean. User_Count should be filled with the median."
   ],
   "cell_type": "markdown",
   "metadata": {}
  },
  {
   "cell_type": "code",
   "execution_count": null,
   "metadata": {},
   "outputs": [],
   "source": [
    "import pandas as pd\n",
    "import matplotlib.pyplot as plt"
   ]
  },
  {
   "cell_type": "code",
   "execution_count": null,
   "metadata": {},
   "outputs": [],
   "source": [
    "df = pd.read_csv('video_games.csv')\n",
    "df.head(2)"
   ]
  },
  {
   "source": [
    "## Solution"
   ],
   "cell_type": "markdown",
   "metadata": {}
  },
  {
   "cell_type": "code",
   "execution_count": null,
   "metadata": {},
   "outputs": [],
   "source": [
    "#Question1\n",
    "\n",
    "df['Critic_Score'] = df['Critic_Score'].fillna(df['Critic_Score'].median())\n",
    "\n",
    "df['Critic_Score'].corr(df['User_Score'])"
   ]
  },
  {
   "cell_type": "code",
   "execution_count": null,
   "metadata": {},
   "outputs": [],
   "source": [
    "#Question2\n",
    "\n",
    "df_best = df[df['Year_of_Release'] < 2000]\n",
    "\n",
    "df_best.sort_values(by=['Global_Sales'], ascending=False).head(5)\n"
   ]
  },
  {
   "cell_type": "code",
   "execution_count": null,
   "metadata": {},
   "outputs": [],
   "source": [
    "#Question3\n",
    "\n",
    "df['Critic_Count'] = df['Critic_Count'].fillna(df['Critic_Count'].mean())\n",
    "df['User_Count'] = df['User_Count'].filna(df['User_Count'].median())\n",
    "\n",
    "#make proportional with Critic_Score\n",
    "df['User_Score'] = df['User_Score'] * 10\n",
    "\n",
    "df['Aggregate_Score'] = ((df['Critic_Score'] * df['Critic_Count']) + (df['User_Score'] * df['User_Count']))/(df['Critic_Count'] + df['User_Count'])\n",
    "\n",
    "\n",
    "df_not_nintendo = df[(df['Year_of_Release'] < 2000) & (df['Publisher'] != 'Nintendo')]\n",
    "\n",
    "df_plot = df_not_nintendo.sort_values(by=['Aggregate_Score'], ascending=False).head(5)\n",
    "\n",
    "plt.figure()\n",
    "plt.bar(df_plot['Name'], df_plot['Aggregate_Score'])\n",
    "plt.show()\n"
   ]
  }
 ]
}