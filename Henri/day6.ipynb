{
 "metadata": {
  "language_info": {
   "codemirror_mode": {
    "name": "ipython",
    "version": 3
   },
   "file_extension": ".py",
   "mimetype": "text/x-python",
   "name": "python",
   "nbconvert_exporter": "python",
   "pygments_lexer": "ipython3",
   "version": "3.8.5-final"
  },
  "orig_nbformat": 2,
  "kernelspec": {
   "name": "python38564bitnnscrapercondaa354d8fb32614818906b42d96b0e4fbd",
   "display_name": "Python 3.8.5 64-bit ('NNScraper': conda)",
   "language": "python"
  }
 },
 "nbformat": 4,
 "nbformat_minor": 2,
 "cells": [
  {
   "source": [
    "Challenge:\n",
    "\n",
    "There are many holes in the living room's ceiling that desperately need to be fixed. Dot's measured them, and in total there are about 100. They need to figure out how much does it cost to fix all of the holes. Differently sized holes will require differently sized patches to fix them.\n",
    "Size of Hole \tCost to Fix\n",
    "Small (less than 20 mm) \t$1.30\n",
    "Medium (above or equal to 20 mm AND less than 70mm) \t$1.60\n",
    "Large (above or equal to 70 mm) \t$2.10\n",
    "\n",
    "Dot needs you to look at the measurements and figure out the answers to the following questions:\n",
    "\n",
    "    What is the average sized hole?\n",
    "    What is the average cost to fix a hole?\n",
    "\n",
    "    What is the total cost of fixing all of the holes?\n",
    "        Note: Use a for loop and an if else statement to answer Q3.\n",
    "\n",
    "Stretch Question:\n",
    "\n",
    "Stretch Questions are not required to be completed to finish the challenge but are recommended to further develop your skills.\n",
    "\n",
    "    What is the maximum sized hole?\n",
    "    What is the minimum sized hole?\n",
    "\n"
   ],
   "cell_type": "markdown",
   "metadata": {}
  },
  {
   "cell_type": "code",
   "execution_count": 1,
   "metadata": {},
   "outputs": [
    {
     "output_type": "execute_result",
     "data": {
      "text/plain": [
       "[9, 3, 1, 21, 35]"
      ]
     },
     "metadata": {},
     "execution_count": 1
    }
   ],
   "source": [
    "import random \n",
    "random.seed(34)\n",
    "\n",
    "hole_sizes = [random.randint(1, i) for i in range(1, 101)]\n",
    "random.shuffle(hole_sizes)\n",
    "\n",
    "# hole sizes in mm\n",
    "hole_sizes[:5]"
   ]
  },
  {
   "cell_type": "code",
   "execution_count": 2,
   "metadata": {},
   "outputs": [
    {
     "output_type": "stream",
     "name": "stdout",
     "text": [
      "avg hole size: 28.39\navg hole cost repairs: 1.49\nTotal repair cost: 148.8\nbiggest hole: 96\nsmallest hole: 1\n"
     ]
    }
   ],
   "source": [
    "def holePriceFunc(hole):\n",
    "    \"\"\"\n",
    "    convert hole size in mm to cost to repair in $\n",
    "    less than 20mm - 1.3\n",
    "    20 <= and < 70 - 1.6\n",
    "    70 <= 2.1\n",
    "    \"\"\"\n",
    "    if hole < 20:\n",
    "        return 1.3\n",
    "    elif 20 <= hole < 70:\n",
    "        return 1.6\n",
    "    else:\n",
    "        return 2.1\n",
    "\n",
    "\n",
    "#Q1 avg hole size\n",
    "print(f'avg hole size: {sum(hole_sizes)/len(hole_sizes)}')\n",
    "#Q2 avg cost to fix the holes\n",
    "totalRepairCosts = [holePriceFunc(hole) for hole in hole_sizes]\n",
    "print(f'avg hole cost repairs: {round(sum(totalRepairCosts)/len(totalRepairCosts),2)}')\n",
    "#Q3 total repair cost\n",
    "print(f'Total repair cost: {round(sum(totalRepairCosts),2)}')\n",
    "# Q4\n",
    "print(f'biggest hole: {max(hole_sizes)}')\n",
    "# Q5\n",
    "print(f'smallest hole: {min(hole_sizes)}')\n"
   ]
  }
 ]
}