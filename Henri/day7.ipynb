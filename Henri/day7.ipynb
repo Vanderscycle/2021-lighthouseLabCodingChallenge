{
 "metadata": {
  "language_info": {
   "codemirror_mode": {
    "name": "ipython",
    "version": 3
   },
   "file_extension": ".py",
   "mimetype": "text/x-python",
   "name": "python",
   "nbconvert_exporter": "python",
   "pygments_lexer": "ipython3",
   "version": "3.8.5-final"
  },
  "orig_nbformat": 2,
  "kernelspec": {
   "name": "python38564bitnnscrapercondaa354d8fb32614818906b42d96b0e4fbd",
   "display_name": "Python 3.8.5 64-bit ('NNScraper': conda)",
   "language": "python"
  }
 },
 "nbformat": 4,
 "nbformat_minor": 2,
 "cells": [
  {
   "source": [
    "## Challenge \n",
    "\n",
    "Dot has a lot of different boxes laying around. They need a system for how to unpack them, or they'll just continue procrastinating. Help Dot sort the boxes by their weight.\n",
    "\n",
    "| Box:  | Weight (kg) |\n",
    "|-------|-------------|\n",
    "| Box 1 | 4           |\n",
    "| Box 2 | 2           |\n",
    "| Box 3 | 18          |\n",
    "| Box 4 | 21          |\n",
    "| Box 5 | 14          |\n",
    "| Box 6 | 13          |\n",
    "\n",
    "**Create a function that will open the boxes according to their weight, from lightest to heaviest.**"
   ],
   "cell_type": "markdown",
   "metadata": {}
  },
  {
   "cell_type": "code",
   "execution_count": 1,
   "metadata": {},
   "outputs": [],
   "source": [
    "#example dicitonary\n",
    "user_boxes = {'weight': [4,2,18,21,14,13],\n",
    "              'box_name': ['box1','box2', 'box3', 'box4', 'box5', 'box6']\n",
    "             }"
   ]
  },
  {
   "cell_type": "code",
   "execution_count": 138,
   "metadata": {},
   "outputs": [],
   "source": [
    "def unboxing(dic):\n",
    "    \"\"\"\n",
    "    description:\n",
    "        - assumes that the dictionary only has 2 lists as values\n",
    "    input:\n",
    "        - single dictionary\n",
    "    outputs:\n",
    "        - ordered list itemwise\n",
    "    \"\"\"\n",
    "    weight,box = [v for v in dic.values()]\n",
    "    packagedItemWise = [(box[i],weight[i]) for i in range(len(weight))]\n",
    "\n",
    "    return sorted(packagedItemWise,key = lambda x: x[1])"
   ]
  },
  {
   "cell_type": "code",
   "execution_count": 139,
   "metadata": {},
   "outputs": [
    {
     "output_type": "execute_result",
     "data": {
      "text/plain": [
       "[('box2', 2),\n",
       " ('box1', 4),\n",
       " ('box6', 13),\n",
       " ('box5', 14),\n",
       " ('box3', 18),\n",
       " ('box4', 21)]"
      ]
     },
     "metadata": {},
     "execution_count": 139
    }
   ],
   "source": [
    "unboxing(user_boxes)"
   ]
  },
  {
   "source": [
    "## things I should get better at\n",
    "* itertools\n",
    "* numba"
   ],
   "cell_type": "markdown",
   "metadata": {}
  }
 ]
}