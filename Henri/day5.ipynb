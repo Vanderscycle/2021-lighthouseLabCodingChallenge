{
 "metadata": {
  "language_info": {
   "codemirror_mode": {
    "name": "ipython",
    "version": 3
   },
   "file_extension": ".py",
   "mimetype": "text/x-python",
   "name": "python",
   "nbconvert_exporter": "python",
   "pygments_lexer": "ipython3",
   "version": "3.8.5-final"
  },
  "orig_nbformat": 2,
  "kernelspec": {
   "name": "python38564bitnnscrapercondaa354d8fb32614818906b42d96b0e4fbd",
   "display_name": "Python 3.8.5 64-bit ('NNScraper': conda)",
   "language": "python"
  }
 },
 "nbformat": 4,
 "nbformat_minor": 2,
 "cells": [
  {
   "cell_type": "code",
   "execution_count": 1,
   "metadata": {},
   "outputs": [],
   "source": [
    "# Cleaning Supplies List (19 items)\n",
    "cleaningsupplies_list = ['Broom', 'Mop', 'Dustpan', 'Garbage Bags', 'Glass Cleaner', 'Vinegar',\n",
    "                        'Soap', 'Bleach', 'Duster', 'Floor Cleaner', 'Sponges', 'Dish Soap',\n",
    "                        'Drain Cleaner', 'Paper Towels', 'Cleaning Rags', 'Toilet Cleaner', \n",
    "                        'Rubber Gloves', 'Alcohol Wipes', 'Squeegee']\n",
    "\n",
    "# City Price\n",
    "city_price = [6.49, 4.99, 3.39, 4.29, 3.99, 1.99, \n",
    "              1.50, 3.99, 4.99, 5.99, 2.99, 2.99, \n",
    "              5.99, 2.99, 3.49, 6.99, 2.99, 1.98, 11.99]\n",
    "\n",
    "# Country Price\n",
    "country_price = [5.49, 4.69, 4.42, 5.99, 5.99, 2.50,\n",
    "                1.25, 2.49, 4.50, 6.75, 2.49, 1.99, \n",
    "                6.25, 3.99, 3.59, 4.99, 1.69, 1.87, 10.99]"
   ]
  },
  {
   "cell_type": "code",
   "execution_count": 5,
   "metadata": {},
   "outputs": [],
   "source": [
    "priceDifference = dict()\n",
    "for i in range(len(cleaningsupplies_list)):\n",
    "    if country_price[i] < city_price[i]*1.10:\n",
    "        priceDifference[cleaningsupplies_list[i]] = 'no'\n",
    "    else:\n",
    "        priceDifference[cleaningsupplies_list[i]] = 'yes'"
   ]
  },
  {
   "cell_type": "code",
   "execution_count": 6,
   "metadata": {},
   "outputs": [
    {
     "output_type": "execute_result",
     "data": {
      "text/plain": [
       "{'Broom': 'no',\n",
       " 'Mop': 'no',\n",
       " 'Dustpan': 'yes',\n",
       " 'Garbage Bags': 'yes',\n",
       " 'Glass Cleaner': 'yes',\n",
       " 'Vinegar': 'yes',\n",
       " 'Soap': 'no',\n",
       " 'Bleach': 'no',\n",
       " 'Duster': 'no',\n",
       " 'Floor Cleaner': 'yes',\n",
       " 'Sponges': 'no',\n",
       " 'Dish Soap': 'no',\n",
       " 'Drain Cleaner': 'no',\n",
       " 'Paper Towels': 'yes',\n",
       " 'Cleaning Rags': 'no',\n",
       " 'Toilet Cleaner': 'no',\n",
       " 'Rubber Gloves': 'no',\n",
       " 'Alcohol Wipes': 'no',\n",
       " 'Squeegee': 'no'}"
      ]
     },
     "metadata": {},
     "execution_count": 6
    }
   ],
   "source": [
    "priceDifference"
   ]
  }
 ]
}