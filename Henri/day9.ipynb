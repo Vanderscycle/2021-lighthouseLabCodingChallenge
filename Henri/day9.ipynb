{
 "metadata": {
  "language_info": {
   "codemirror_mode": {
    "name": "ipython",
    "version": 3
   },
   "file_extension": ".py",
   "mimetype": "text/x-python",
   "name": "python",
   "nbconvert_exporter": "python",
   "pygments_lexer": "ipython3",
   "version": "3.8.5-final"
  },
  "orig_nbformat": 2,
  "kernelspec": {
   "name": "python38564bitnnscrapercondaa354d8fb32614818906b42d96b0e4fbd",
   "display_name": "Python 3.8.5 64-bit ('NNScraper': conda)",
   "language": "python"
  }
 },
 "nbformat": 4,
 "nbformat_minor": 2,
 "cells": [
  {
   "source": [
    "### Challenge\n",
    "\n",
    "Fill out the missing values in the *monthly milk production* column with the median, and fill out the *number of cows* column using the ***ffill*** method. \n",
    "\n",
    "After filling in the missing values with our new data, answer these questions for Dot, so they can figure out the value of having a cow year-round: \n",
    "\n",
    "1. What is the average for monthly milk production?\n",
    "2. What is the standard deviation for monthly milk production? \n",
    "3. What is the average number of cows used? "
   ],
   "cell_type": "markdown",
   "metadata": {}
  },
  {
   "cell_type": "code",
   "execution_count": null,
   "metadata": {},
   "outputs": [],
   "source": [
    "#the values get close\n",
    "df[\"Monthly milk production: pounds per cow\"] = df[\"Monthly milk production: pounds per cow\"].transform(lambda x: x.fillna(x.mean()))\n",
    "df[\"Number of Cows\"] = df[\"Number of Cows\"].transform(lambda x: x.fillna(method='ffill'))"
   ]
  },
  {
   "cell_type": "code",
   "execution_count": null,
   "metadata": {},
   "outputs": [],
   "source": [
    "df.mean()"
   ]
  },
  {
   "cell_type": "code",
   "execution_count": null,
   "metadata": {},
   "outputs": [],
   "source": [
    "df.std(axis=0)"
   ]
  }
 ]
}